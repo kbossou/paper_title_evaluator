{
 "cells": [
  {
   "cell_type": "code",
   "execution_count": 59,
   "metadata": {},
   "outputs": [],
   "source": [
    "import pandas as pd\n",
    "import numpy as np\n",
    "import random\n",
    "import seaborn as sns\n",
    "from matplotlib import pyplot as plt\n",
    "\n",
    "import re\n",
    "import nltk\n",
    "from nltk.tokenize import word_tokenize\n",
    "from nltk.corpus import stopwords\n",
    "\n",
    "import tensorflow as tf\n",
    "from tensorflow.keras import Input\n",
    "from tensorflow.keras.layers import Dense\n",
    "\n",
    "from sklearn.linear_model import LogisticRegression\n",
    "from sklearn.tree import DecisionTreeClassifier\n",
    "from sklearn.ensemble import RandomForestClassifier\n",
    "\n",
    "from sklearn.model_selection import train_test_split\n",
    "from sklearn.metrics import accuracy_score, precision_recall_fscore_support, roc_curve, auc\n",
    "from sklearn.metrics.pairwise import cosine_similarity"
   ]
  },
  {
   "cell_type": "code",
   "execution_count": 60,
   "metadata": {},
   "outputs": [
    {
     "data": {
      "text/plain": [
       "(18145, 5)"
      ]
     },
     "execution_count": 60,
     "metadata": {},
     "output_type": "execute_result"
    }
   ],
   "source": [
    "papers = pd.read_csv('datasets/ai_papers_00-17.csv')\n",
    "papers.shape"
   ]
  },
  {
   "cell_type": "code",
   "execution_count": 61,
   "metadata": {},
   "outputs": [
    {
     "data": {
      "text/html": [
       "<div>\n",
       "<style scoped>\n",
       "    .dataframe tbody tr th:only-of-type {\n",
       "        vertical-align: middle;\n",
       "    }\n",
       "\n",
       "    .dataframe tbody tr th {\n",
       "        vertical-align: top;\n",
       "    }\n",
       "\n",
       "    .dataframe thead th {\n",
       "        text-align: right;\n",
       "    }\n",
       "</style>\n",
       "<table border=\"1\" class=\"dataframe\">\n",
       "  <thead>\n",
       "    <tr style=\"text-align: right;\">\n",
       "      <th></th>\n",
       "      <th>paper_title</th>\n",
       "      <th>num_of_citations</th>\n",
       "      <th>conference</th>\n",
       "      <th>year</th>\n",
       "      <th>is_link</th>\n",
       "    </tr>\n",
       "  </thead>\n",
       "  <tbody>\n",
       "    <tr>\n",
       "      <th>0</th>\n",
       "      <td>Value ordering for finding all solutions</td>\n",
       "      <td>44</td>\n",
       "      <td>IJCAI</td>\n",
       "      <td>2005</td>\n",
       "      <td>True</td>\n",
       "    </tr>\n",
       "    <tr>\n",
       "      <th>1</th>\n",
       "      <td>A Conceptual Graph Approach for the Generation...</td>\n",
       "      <td>31</td>\n",
       "      <td>IJCAI</td>\n",
       "      <td>2007</td>\n",
       "      <td>True</td>\n",
       "    </tr>\n",
       "    <tr>\n",
       "      <th>2</th>\n",
       "      <td>Exploiting image contents in web search</td>\n",
       "      <td>34</td>\n",
       "      <td>IJCAI</td>\n",
       "      <td>2007</td>\n",
       "      <td>True</td>\n",
       "    </tr>\n",
       "    <tr>\n",
       "      <th>3</th>\n",
       "      <td>Best-First Utility-Guided Search</td>\n",
       "      <td>31</td>\n",
       "      <td>IJCAI</td>\n",
       "      <td>2007</td>\n",
       "      <td>True</td>\n",
       "    </tr>\n",
       "    <tr>\n",
       "      <th>4</th>\n",
       "      <td>Ambiguous part-of-speech tagging for improving...</td>\n",
       "      <td>30</td>\n",
       "      <td>IJCAI</td>\n",
       "      <td>2007</td>\n",
       "      <td>True</td>\n",
       "    </tr>\n",
       "  </tbody>\n",
       "</table>\n",
       "</div>"
      ],
      "text/plain": [
       "                                         paper_title  num_of_citations  \\\n",
       "0           Value ordering for finding all solutions                44   \n",
       "1  A Conceptual Graph Approach for the Generation...                31   \n",
       "2            Exploiting image contents in web search                34   \n",
       "3                   Best-First Utility-Guided Search                31   \n",
       "4  Ambiguous part-of-speech tagging for improving...                30   \n",
       "\n",
       "  conference  year  is_link  \n",
       "0      IJCAI  2005     True  \n",
       "1      IJCAI  2007     True  \n",
       "2      IJCAI  2007     True  \n",
       "3      IJCAI  2007     True  \n",
       "4      IJCAI  2007     True  "
      ]
     },
     "execution_count": 61,
     "metadata": {},
     "output_type": "execute_result"
    }
   ],
   "source": [
    "papers.head()"
   ]
  },
  {
   "cell_type": "code",
   "execution_count": 62,
   "metadata": {},
   "outputs": [
    {
     "data": {
      "text/html": [
       "<div>\n",
       "<style scoped>\n",
       "    .dataframe tbody tr th:only-of-type {\n",
       "        vertical-align: middle;\n",
       "    }\n",
       "\n",
       "    .dataframe tbody tr th {\n",
       "        vertical-align: top;\n",
       "    }\n",
       "\n",
       "    .dataframe thead th {\n",
       "        text-align: right;\n",
       "    }\n",
       "</style>\n",
       "<table border=\"1\" class=\"dataframe\">\n",
       "  <thead>\n",
       "    <tr style=\"text-align: right;\">\n",
       "      <th></th>\n",
       "      <th>num_of_citations</th>\n",
       "      <th>year</th>\n",
       "    </tr>\n",
       "  </thead>\n",
       "  <tbody>\n",
       "    <tr>\n",
       "      <th>count</th>\n",
       "      <td>18145.000000</td>\n",
       "      <td>18145.000000</td>\n",
       "    </tr>\n",
       "    <tr>\n",
       "      <th>mean</th>\n",
       "      <td>41.096335</td>\n",
       "      <td>2010.491265</td>\n",
       "    </tr>\n",
       "    <tr>\n",
       "      <th>std</th>\n",
       "      <td>168.956386</td>\n",
       "      <td>5.005128</td>\n",
       "    </tr>\n",
       "    <tr>\n",
       "      <th>min</th>\n",
       "      <td>0.000000</td>\n",
       "      <td>2000.000000</td>\n",
       "    </tr>\n",
       "    <tr>\n",
       "      <th>25%</th>\n",
       "      <td>3.000000</td>\n",
       "      <td>2007.000000</td>\n",
       "    </tr>\n",
       "    <tr>\n",
       "      <th>50%</th>\n",
       "      <td>10.000000</td>\n",
       "      <td>2011.000000</td>\n",
       "    </tr>\n",
       "    <tr>\n",
       "      <th>75%</th>\n",
       "      <td>32.000000</td>\n",
       "      <td>2015.000000</td>\n",
       "    </tr>\n",
       "    <tr>\n",
       "      <th>max</th>\n",
       "      <td>9432.000000</td>\n",
       "      <td>2017.000000</td>\n",
       "    </tr>\n",
       "  </tbody>\n",
       "</table>\n",
       "</div>"
      ],
      "text/plain": [
       "       num_of_citations          year\n",
       "count      18145.000000  18145.000000\n",
       "mean          41.096335   2010.491265\n",
       "std          168.956386      5.005128\n",
       "min            0.000000   2000.000000\n",
       "25%            3.000000   2007.000000\n",
       "50%           10.000000   2011.000000\n",
       "75%           32.000000   2015.000000\n",
       "max         9432.000000   2017.000000"
      ]
     },
     "execution_count": 62,
     "metadata": {},
     "output_type": "execute_result"
    }
   ],
   "source": [
    "papers.describe()"
   ]
  },
  {
   "cell_type": "code",
   "execution_count": 63,
   "metadata": {},
   "outputs": [],
   "source": [
    "# papers.nlargest(10, 'num_of_citations')"
   ]
  },
  {
   "cell_type": "code",
   "execution_count": 64,
   "metadata": {},
   "outputs": [
    {
     "name": "stdout",
     "output_type": "stream",
     "text": [
      "Median is 10.0\n",
      "Cut off used is 10\n"
     ]
    }
   ],
   "source": [
    "CUT_OFF = papers['num_of_citations'].median()\n",
    "print(f\"Median is {CUT_OFF}\")\n",
    "CUT_OFF = int(CUT_OFF)\n",
    "# CUT_OFF = 15\n",
    "print(f\"Cut off used is {CUT_OFF}\")"
   ]
  },
  {
   "cell_type": "code",
   "execution_count": 65,
   "metadata": {},
   "outputs": [],
   "source": [
    "papers['target'] = papers['num_of_citations'].apply(lambda x: True if x >= CUT_OFF else False)"
   ]
  },
  {
   "cell_type": "code",
   "execution_count": 66,
   "metadata": {},
   "outputs": [
    {
     "name": "stdout",
     "output_type": "stream",
     "text": [
      "True paper titles are: 9460\n",
      "False paper titles are: 8685\n"
     ]
    }
   ],
   "source": [
    "num_true = len(papers[papers['target'] == True])\n",
    "print(f\"True paper titles are: {num_true}\")\n",
    "num_false = len(papers[papers['target'] == False])\n",
    "print(f\"False paper titles are: {num_false}\")"
   ]
  },
  {
   "cell_type": "code",
   "execution_count": 67,
   "metadata": {},
   "outputs": [],
   "source": [
    "## Look at the good papers\n",
    "# for i, row in papers.iterrows():\n",
    "#     if (row['num_of_citations'] > CUT_OFF):\n",
    "#         print(row['paper_title'])\n",
    "#         print(row['num_of_citations'])\n",
    "#         print('\\n')"
   ]
  },
  {
   "cell_type": "markdown",
   "metadata": {},
   "source": [
    "## Feature extraction"
   ]
  },
  {
   "cell_type": "code",
   "execution_count": 68,
   "metadata": {},
   "outputs": [],
   "source": [
    "# import spacy\n",
    "from spacy_download import load_spacy\n",
    "nlp = load_spacy('en_core_web_lg') # nlp = spacy.load('en') # nlp = load_spacy('en_core_web_lg')\n",
    "substantives_pos = ['ADJ', 'ADV', 'NOUN', 'PROPN', 'VERB']\n",
    "key_words = [\"machine\", \"learning\", \"system\", \"artificial\", \"intelligence\"]\n",
    "\n",
    "def process_title(title):\n",
    "    data_pt = {}\n",
    "    data_pt['paper_title'] = title\n",
    "    \n",
    "    # uppercase word\n",
    "    words = title.split()\n",
    "    has_uppercase_word = False\n",
    "    for word in words:\n",
    "        if word.isupper() == True and len(word) > 2:\n",
    "            has_uppercase_word = True\n",
    "            break\n",
    "    \n",
    "    title = title.lower()\n",
    "    data_pt['num_of_chars'] = len(title)\n",
    "\n",
    "    data_pt['num_of_words'] = len(words)\n",
    "    # has something\n",
    "    data_pt['has_comma'] = True if \",\" in title else False\n",
    "    has_colon = True if \":\" in title else False\n",
    "    data_pt['has_colon'] = has_colon\n",
    "    data_pt['has_hyphen'] = True if \"-\" in title else False\n",
    "    data_pt['has_!'] = True if \"!\" in title else False\n",
    "    data_pt['has_?'] = True if \"?\" in title else False\n",
    "    boolean_list = [True for key_word in key_words if key_word in title]\n",
    "#     data_pt['ai_paper'] = True if True in boolean_list else False\n",
    "    data_pt['has_uppercase_word'] = has_uppercase_word\n",
    "        \n",
    "    # POS features\n",
    "    text_before_colon = title.split(\":\")[0] if has_colon == True else \"\"\n",
    "    words_before_colon = nlp(text_before_colon)\n",
    "    tokens = nlp(title)\n",
    "    left_colon_tokens = nlp(text_before_colon)\n",
    "    verbs = []\n",
    "    determinants = []\n",
    "    nouns = []\n",
    "    out_dict_words = []\n",
    "    out_dict_words_before_colon = []\n",
    "    substantives = []\n",
    "    for i, token in enumerate(tokens):\n",
    "        if token.pos_ in substantives_pos:\n",
    "            substantives.append(token)\n",
    "        if token.pos_ in ['AUX', 'VERB']:\n",
    "            verbs.append(token)\n",
    "        elif token.pos_  == 'NOUN':\n",
    "            nouns.append(token)\n",
    "        elif token.pos_ == 'DET':\n",
    "            determinants.append(token)    \n",
    "        if token.is_oov:\n",
    "            out_dict_words.append(token)\n",
    "            if i < len(left_colon_tokens):\n",
    "                out_dict_words_before_colon.append(token)\n",
    "    al_num = [char for char in title if char != ' ' if char.isalpha() == False]\n",
    "\n",
    "#     data_pt['has_non_al_num'] = True if len(al_num) > 0 else False\n",
    "    data_pt['num_out_dict_words'] = len(out_dict_words)\n",
    "    data_pt['num_right_out_dict_words'] = len(out_dict_words) - len(out_dict_words_before_colon)\n",
    "    data_pt['share_verbs'] = len(verbs)/len(tokens)\n",
    "    data_pt['share_nouns'] = len(nouns)/len(tokens)\n",
    "    data_pt['share_dets'] = len(determinants)/len(tokens)\n",
    "    data_pt['share_out_dict_words'] = len(out_dict_words)/len(tokens)\n",
    "    data_pt['share_left_colon_words'] = len(words_before_colon)/len(tokens)    \n",
    "    data_pt['share_substantives'] = len(substantives)/len(tokens)\n",
    "    data_pt['share_non_al_num'] = len(al_num)/len(title)\n",
    "#     print(data_pt)\n",
    "    return data_pt, words"
   ]
  },
  {
   "cell_type": "code",
   "execution_count": 69,
   "metadata": {},
   "outputs": [],
   "source": [
    "# titles = [\n",
    "#     \"The application of Computational Creativity evaluation methods to art and music-based systems\",\n",
    "#     \"Generation or Creativity erlje\",\n",
    "#     \"Therapeutic Computational Creativity\",\n",
    "#     \"The compusss willey return too good matttere rendr\",\n",
    "#     \"Human-Computer Evaluation: Inverting the co-creative paradigm\",\n",
    "# ]\n",
    "\n",
    "# # random forest evaluator\n",
    "# for title in titles:\n",
    "#     process_title(title)"
   ]
  },
  {
   "cell_type": "code",
   "execution_count": 70,
   "metadata": {},
   "outputs": [],
   "source": [
    "# build the data target for classification\n",
    "data = []\n",
    "for i, row in papers.iterrows():\n",
    "    data_pt = process_title(row['paper_title'])[0]\n",
    "    data_pt['target'] = row['target']\n",
    "    data.append(data_pt)\n",
    "titles_df = pd.DataFrame(data)"
   ]
  },
  {
   "cell_type": "markdown",
   "metadata": {},
   "source": [
    "## EDA"
   ]
  },
  {
   "cell_type": "code",
   "execution_count": 71,
   "metadata": {},
   "outputs": [],
   "source": [
    "# [titles_df['%_dets'] > 0]"
   ]
  },
  {
   "cell_type": "code",
   "execution_count": 72,
   "metadata": {},
   "outputs": [],
   "source": [
    "def true_false(df):\n",
    "    true_df = df[df['target'] == True]\n",
    "    false_df = df[df['target'] == False]\n",
    "    return true_df, false_df"
   ]
  },
  {
   "cell_type": "code",
   "execution_count": 73,
   "metadata": {},
   "outputs": [
    {
     "name": "stdout",
     "output_type": "stream",
     "text": [
      "Mean character value for True target: 63.572832980972514\n",
      "Mean character value for False target: 65.3986183074266\n"
     ]
    }
   ],
   "source": [
    "true_df, false_df = true_false(titles_df)\n",
    "mean_num_chars_true = true_df['num_of_chars'].mean()\n",
    "mean_num_chars_false = false_df['num_of_chars'].mean()\n",
    "print(f\"Mean character value for True target: {mean_num_chars_true}\")\n",
    "print(f\"Mean character value for False target: {mean_num_chars_false}\")"
   ]
  },
  {
   "cell_type": "code",
   "execution_count": 74,
   "metadata": {},
   "outputs": [
    {
     "name": "stdout",
     "output_type": "stream",
     "text": [
      "64.0\n"
     ]
    }
   ],
   "source": [
    "GOOD_PAPER_LENGTH = np.ceil(mean_num_chars_true)\n",
    "print(GOOD_PAPER_LENGTH)\n",
    "GOOD_PAPER_LENGTH = 71"
   ]
  },
  {
   "cell_type": "code",
   "execution_count": 75,
   "metadata": {},
   "outputs": [
    {
     "name": "stdout",
     "output_type": "stream",
     "text": [
      "Length has_colon: 3456\n",
      "True has_colon: 1842\n",
      "False has_colon: 1614\n"
     ]
    },
    {
     "data": {
      "text/plain": [
       "76.37622149837134"
      ]
     },
     "execution_count": 75,
     "metadata": {},
     "output_type": "execute_result"
    }
   ],
   "source": [
    "has_colon_df = titles_df[titles_df['has_colon'] == True]\n",
    "print(f\"Length has_colon: {len(has_colon_df)}\")\n",
    "\n",
    "has_colon_true_df, has_colon_false_df = true_false(has_colon_df)\n",
    "print(f\"True has_colon: {len(has_colon_true_df)}\")\n",
    "print(f\"False has_colon: {len(has_colon_false_df)}\")\n",
    "len(has_colon_df)/len(titles_df)\n",
    "has_colon_true_df, has_colon_false_df = true_false(has_colon_df)\n",
    "has_colon_true_df['num_of_chars'].mean()"
   ]
  },
  {
   "cell_type": "code",
   "execution_count": 76,
   "metadata": {},
   "outputs": [
    {
     "name": "stdout",
     "output_type": "stream",
     "text": [
      "Length left part less than 0.5: 2719\n",
      "True good has_colon: 1484\n",
      "False good has_colon: 1235\n"
     ]
    }
   ],
   "source": [
    "has_colon_good_df = has_colon_df[has_colon_df['share_left_colon_words'] < 0.5]\n",
    "print(f\"Length left part less than 0.5: {len(has_colon_good_df)}\")\n",
    "\n",
    "has_colon_good_true_df, has_colon_good_false_df = true_false(has_colon_good_df)\n",
    "print(f\"True good has_colon: {len(has_colon_good_true_df)}\")\n",
    "print(f\"False good has_colon: {len(has_colon_good_false_df)}\")"
   ]
  },
  {
   "cell_type": "code",
   "execution_count": 77,
   "metadata": {},
   "outputs": [
    {
     "name": "stdout",
     "output_type": "stream",
     "text": [
      "Percentage of left part less than 0.5: 78.67476851851852\n",
      "Percentage of GOOD left part less than 0.5: 54.57888929753586\n"
     ]
    }
   ],
   "source": [
    "print(f\"Percentage of left part less than 0.5: {100*len(has_colon_good_df)/len(has_colon_df)}\")\n",
    "print(f\"Percentage of GOOD left part less than 0.5: {100*len(has_colon_good_true_df)/len(has_colon_good_df)}\")"
   ]
  },
  {
   "cell_type": "code",
   "execution_count": 78,
   "metadata": {},
   "outputs": [
    {
     "data": {
      "text/plain": [
       "77.39699074074075"
      ]
     },
     "execution_count": 78,
     "metadata": {},
     "output_type": "execute_result"
    }
   ],
   "source": [
    "has_colon_df['num_of_chars'].mean()"
   ]
  },
  {
   "cell_type": "code",
   "execution_count": 79,
   "metadata": {},
   "outputs": [
    {
     "data": {
      "text/plain": [
       "76.37622149837134"
      ]
     },
     "execution_count": 79,
     "metadata": {},
     "output_type": "execute_result"
    }
   ],
   "source": [
    "has_colon_true_df['num_of_chars'].mean()"
   ]
  },
  {
   "cell_type": "code",
   "execution_count": 80,
   "metadata": {},
   "outputs": [
    {
     "data": {
      "text/plain": [
       "78.56195786864932"
      ]
     },
     "execution_count": 80,
     "metadata": {},
     "output_type": "execute_result"
    }
   ],
   "source": [
    "has_colon_false_df['num_of_chars'].mean()"
   ]
  },
  {
   "cell_type": "code",
   "execution_count": 81,
   "metadata": {},
   "outputs": [],
   "source": [
    "def is_good_short_title(words):\n",
    "    first_letters, last_letters = [], []\n",
    "    for i in range(len(words)):\n",
    "        first_letters.append(words[i][0])\n",
    "        last_letters.append(words[i][-1])\n",
    "    max_first_letters_count = 0\n",
    "    for i, letter in enumerate(first_letters):\n",
    "        first_letters_count = first_letters.count(first_letters[i][0])\n",
    "        if first_letters_count > max_first_letters_count:\n",
    "            max_first_letters_count = first_letters_count\n",
    "    max_last_letters_count = 0\n",
    "    for i, letter in enumerate(last_letters):\n",
    "        last_letters_count = last_letters.count(last_letters[i][-1])\n",
    "        if last_letters_count > max_last_letters_count:\n",
    "            max_last_letters_count = last_letters_count\n",
    "    if max_first_letters_count <  2 and max_last_letters_count < 2:\n",
    "        is_good = False\n",
    "    else:\n",
    "        is_good = True\n",
    "    return is_good"
   ]
  },
  {
   "cell_type": "code",
   "execution_count": 82,
   "metadata": {},
   "outputs": [],
   "source": [
    "def find_num_poetic_titles(df):\n",
    "    num_poetic_short_title = 0\n",
    "    for index, short_title in df.iterrows():\n",
    "        data, words = process_title(short_title['paper_title'])\n",
    "        if is_good_short_title(words) == True:\n",
    "            num_poetic_short_title += 1\n",
    "    return num_poetic_short_title"
   ]
  },
  {
   "cell_type": "code",
   "execution_count": 83,
   "metadata": {},
   "outputs": [
    {
     "name": "stdout",
     "output_type": "stream",
     "text": [
      "Short number of words: 1414\n",
      "\n",
      "True percentage of short titles: 0.5502121640735502\n",
      "False percentage of short titles: 0.4497878359264498\n",
      "\n",
      "True percentage of poetic titles: 0.20226308345120225\n",
      "False percentage of poetic titles: 0.16973125884016974\n"
     ]
    }
   ],
   "source": [
    "short_titles_df = titles_df[titles_df['num_of_words'] < 5]\n",
    "print(f\"Short number of words: {len(short_titles_df)}\\n\")\n",
    "\n",
    "short_titles_true_df, short_titles_false_df = true_false(short_titles_df)\n",
    "print(f\"True percentage of short titles: {len(short_titles_true_df)/len(short_titles_df)}\")\n",
    "print(f\"False percentage of short titles: {len(short_titles_false_df)/len(short_titles_df)}\\n\")\n",
    "\n",
    "num_poetic_in_true = find_num_poetic_titles(short_titles_true_df)\n",
    "num_poetic_in_false = find_num_poetic_titles(short_titles_false_df)\n",
    "print(f\"True percentage of poetic titles: {num_poetic_in_true/len(short_titles_df)}\")\n",
    "print(f\"False percentage of poetic titles: {num_poetic_in_false/len(short_titles_df)}\")"
   ]
  },
  {
   "cell_type": "markdown",
   "metadata": {},
   "source": [
    "## Training and test sets"
   ]
  },
  {
   "cell_type": "code",
   "execution_count": 84,
   "metadata": {},
   "outputs": [
    {
     "data": {
      "text/html": [
       "<div>\n",
       "<style scoped>\n",
       "    .dataframe tbody tr th:only-of-type {\n",
       "        vertical-align: middle;\n",
       "    }\n",
       "\n",
       "    .dataframe tbody tr th {\n",
       "        vertical-align: top;\n",
       "    }\n",
       "\n",
       "    .dataframe thead th {\n",
       "        text-align: right;\n",
       "    }\n",
       "</style>\n",
       "<table border=\"1\" class=\"dataframe\">\n",
       "  <thead>\n",
       "    <tr style=\"text-align: right;\">\n",
       "      <th></th>\n",
       "      <th>paper_title</th>\n",
       "      <th>num_of_chars</th>\n",
       "      <th>num_of_words</th>\n",
       "      <th>has_comma</th>\n",
       "      <th>has_colon</th>\n",
       "      <th>has_hyphen</th>\n",
       "      <th>has_!</th>\n",
       "      <th>has_?</th>\n",
       "      <th>has_uppercase_word</th>\n",
       "      <th>num_out_dict_words</th>\n",
       "      <th>num_right_out_dict_words</th>\n",
       "      <th>share_verbs</th>\n",
       "      <th>share_nouns</th>\n",
       "      <th>share_dets</th>\n",
       "      <th>share_out_dict_words</th>\n",
       "      <th>share_left_colon_words</th>\n",
       "      <th>share_substantives</th>\n",
       "      <th>share_non_al_num</th>\n",
       "    </tr>\n",
       "  </thead>\n",
       "  <tbody>\n",
       "    <tr>\n",
       "      <th>0</th>\n",
       "      <td>Value ordering for finding all solutions</td>\n",
       "      <td>40</td>\n",
       "      <td>6</td>\n",
       "      <td>False</td>\n",
       "      <td>False</td>\n",
       "      <td>False</td>\n",
       "      <td>False</td>\n",
       "      <td>False</td>\n",
       "      <td>False</td>\n",
       "      <td>0</td>\n",
       "      <td>0</td>\n",
       "      <td>0.333333</td>\n",
       "      <td>0.333333</td>\n",
       "      <td>0.166667</td>\n",
       "      <td>0.0</td>\n",
       "      <td>0.0</td>\n",
       "      <td>0.666667</td>\n",
       "      <td>0.000000</td>\n",
       "    </tr>\n",
       "    <tr>\n",
       "      <th>1</th>\n",
       "      <td>A Conceptual Graph Approach for the Generation...</td>\n",
       "      <td>71</td>\n",
       "      <td>10</td>\n",
       "      <td>False</td>\n",
       "      <td>False</td>\n",
       "      <td>False</td>\n",
       "      <td>False</td>\n",
       "      <td>False</td>\n",
       "      <td>False</td>\n",
       "      <td>0</td>\n",
       "      <td>0</td>\n",
       "      <td>0.100000</td>\n",
       "      <td>0.400000</td>\n",
       "      <td>0.200000</td>\n",
       "      <td>0.0</td>\n",
       "      <td>0.0</td>\n",
       "      <td>0.600000</td>\n",
       "      <td>0.000000</td>\n",
       "    </tr>\n",
       "    <tr>\n",
       "      <th>2</th>\n",
       "      <td>Exploiting image contents in web search</td>\n",
       "      <td>39</td>\n",
       "      <td>6</td>\n",
       "      <td>False</td>\n",
       "      <td>False</td>\n",
       "      <td>False</td>\n",
       "      <td>False</td>\n",
       "      <td>False</td>\n",
       "      <td>False</td>\n",
       "      <td>0</td>\n",
       "      <td>0</td>\n",
       "      <td>0.166667</td>\n",
       "      <td>0.666667</td>\n",
       "      <td>0.000000</td>\n",
       "      <td>0.0</td>\n",
       "      <td>0.0</td>\n",
       "      <td>0.833333</td>\n",
       "      <td>0.000000</td>\n",
       "    </tr>\n",
       "    <tr>\n",
       "      <th>3</th>\n",
       "      <td>Best-First Utility-Guided Search</td>\n",
       "      <td>32</td>\n",
       "      <td>3</td>\n",
       "      <td>False</td>\n",
       "      <td>False</td>\n",
       "      <td>True</td>\n",
       "      <td>False</td>\n",
       "      <td>False</td>\n",
       "      <td>False</td>\n",
       "      <td>0</td>\n",
       "      <td>0</td>\n",
       "      <td>0.142857</td>\n",
       "      <td>0.285714</td>\n",
       "      <td>0.000000</td>\n",
       "      <td>0.0</td>\n",
       "      <td>0.0</td>\n",
       "      <td>0.714286</td>\n",
       "      <td>0.062500</td>\n",
       "    </tr>\n",
       "    <tr>\n",
       "      <th>4</th>\n",
       "      <td>Ambiguous part-of-speech tagging for improving...</td>\n",
       "      <td>99</td>\n",
       "      <td>12</td>\n",
       "      <td>False</td>\n",
       "      <td>False</td>\n",
       "      <td>True</td>\n",
       "      <td>False</td>\n",
       "      <td>False</td>\n",
       "      <td>False</td>\n",
       "      <td>0</td>\n",
       "      <td>0</td>\n",
       "      <td>0.062500</td>\n",
       "      <td>0.437500</td>\n",
       "      <td>0.000000</td>\n",
       "      <td>0.0</td>\n",
       "      <td>0.0</td>\n",
       "      <td>0.625000</td>\n",
       "      <td>0.020202</td>\n",
       "    </tr>\n",
       "  </tbody>\n",
       "</table>\n",
       "</div>"
      ],
      "text/plain": [
       "                                         paper_title  num_of_chars  \\\n",
       "0           Value ordering for finding all solutions            40   \n",
       "1  A Conceptual Graph Approach for the Generation...            71   \n",
       "2            Exploiting image contents in web search            39   \n",
       "3                   Best-First Utility-Guided Search            32   \n",
       "4  Ambiguous part-of-speech tagging for improving...            99   \n",
       "\n",
       "   num_of_words  has_comma  has_colon  has_hyphen  has_!  has_?  \\\n",
       "0             6      False      False       False  False  False   \n",
       "1            10      False      False       False  False  False   \n",
       "2             6      False      False       False  False  False   \n",
       "3             3      False      False        True  False  False   \n",
       "4            12      False      False        True  False  False   \n",
       "\n",
       "   has_uppercase_word  num_out_dict_words  num_right_out_dict_words  \\\n",
       "0               False                   0                         0   \n",
       "1               False                   0                         0   \n",
       "2               False                   0                         0   \n",
       "3               False                   0                         0   \n",
       "4               False                   0                         0   \n",
       "\n",
       "   share_verbs  share_nouns  share_dets  share_out_dict_words  \\\n",
       "0     0.333333     0.333333    0.166667                   0.0   \n",
       "1     0.100000     0.400000    0.200000                   0.0   \n",
       "2     0.166667     0.666667    0.000000                   0.0   \n",
       "3     0.142857     0.285714    0.000000                   0.0   \n",
       "4     0.062500     0.437500    0.000000                   0.0   \n",
       "\n",
       "   share_left_colon_words  share_substantives  share_non_al_num  \n",
       "0                     0.0            0.666667          0.000000  \n",
       "1                     0.0            0.600000          0.000000  \n",
       "2                     0.0            0.833333          0.000000  \n",
       "3                     0.0            0.714286          0.062500  \n",
       "4                     0.0            0.625000          0.020202  "
      ]
     },
     "execution_count": 84,
     "metadata": {},
     "output_type": "execute_result"
    }
   ],
   "source": [
    "y = titles_df['target']\n",
    "X_with_title = titles_df.drop(['target'], axis=1)\n",
    "X_with_title.head()"
   ]
  },
  {
   "cell_type": "code",
   "execution_count": 85,
   "metadata": {},
   "outputs": [],
   "source": [
    "X = X_with_title.drop(['paper_title'], axis=1)"
   ]
  },
  {
   "cell_type": "code",
   "execution_count": 86,
   "metadata": {},
   "outputs": [
    {
     "data": {
      "image/png": "[encoded data removed]",
      "text/plain": [
       "<Figure size 1200x800 with 2 Axes>"
      ]
     },
     "metadata": {},
     "output_type": "display_data"
    }
   ],
   "source": [
    "import seaborn as sns\n",
    "import matplotlib.pyplot as plt\n",
    "\n",
    "plt.rcParams['figure.figsize'] = [12, 8]\n",
    "corr_matrix = X.corr().round(2)\n",
    "sns.heatmap(corr_matrix, annot=True)\n",
    "plt.show()"
   ]
  },
  {
   "cell_type": "code",
   "execution_count": 87,
   "metadata": {},
   "outputs": [],
   "source": [
    "# Correlated features:\n",
    "#     1. num_of_chars, num_of_words 0.91\n",
    "#     2. num_out_dict_words, num_right_out_dict_words 0.87\n",
    "#     3. num_out_dict_words, share_out_dict_words 0.86\n",
    "#     4. share_out_dict_words, num_right_out_dict_words 0.79\n",
    "\n",
    "# X = X.drop(['num_of_words', 'num_right_out_dict_words', 'share_out_dict_words', 'num_right_out_dict_words'], axis=1)"
   ]
  },
  {
   "cell_type": "code",
   "execution_count": 88,
   "metadata": {},
   "outputs": [],
   "source": [
    "def split_data(X, y, rd_state):\n",
    "    # split training and test set\n",
    "    X_train, X_test, y_train, y_test = train_test_split(X, y, test_size=0.2, random_state=rd_state)\n",
    "#     # get True and False classes numbers\n",
    "#     test_true = len(y_test[y_test == True])\n",
    "#     test_false = len(y_test[y_test == False])\n",
    "#     print(f\"Number of True in test data: {test_true}, Number of False in test data: {test_false}\")\n",
    "    return X_train, X_test, y_train, y_test"
   ]
  },
  {
   "cell_type": "code",
   "execution_count": 89,
   "metadata": {},
   "outputs": [],
   "source": [
    "def model_evaluation(model, X_train, y_train, X_test, y_test):\n",
    "    model = model.fit(X_train, y_train)\n",
    "    # training accuraccy\n",
    "    y_train_pred = model.predict(X_train)\n",
    "    y_test_pred = model.predict(X_test)\n",
    "    if isinstance(y_train_pred[0], float):\n",
    "        y_train_pred = [0 if x < 0.5 else 1 for x in y_train_pred]\n",
    "        y_test_pred = [0 if x < 0.5 else 1 for x in y_test_pred]\n",
    "    train_acc = accuracy_score(y_train, y_train_pred)      \n",
    "    test_acc = accuracy_score(y_test, y_test_pred)\n",
    "    # precision recall fscore support\n",
    "    prec_rec_fs_supp = precision_recall_fscore_support(y_test, y_test_pred, average=None, labels=[True, False])\n",
    "    # AUC metrics\n",
    "    fpr, tpr, thresholds = roc_curve(y_test, y_test_pred, pos_label=1)\n",
    "    auc_value = {auc(fpr, tpr)}\n",
    "    return train_acc, test_acc, auc_value, prec_rec_fs_supp"
   ]
  },
  {
   "cell_type": "code",
   "execution_count": 90,
   "metadata": {},
   "outputs": [],
   "source": [
    "def print_evaluation(train_acc, test_acc, auc_value, prec_rec_fs_supp):\n",
    "    precision, recall, f_score, support = prec_rec_fs_supp\n",
    "    print(f'Training accuracy: {train_acc}')\n",
    "    print(f'Test accuracy: {test_acc}')\n",
    "    print(f'AUC: {auc_value}')\n",
    "    print(f'Precision: {precision}')\n",
    "    print(f'Recall: {recall}')\n",
    "    print(f'F-score: {f_score}')\n",
    "    print(f'Support: {support}')"
   ]
  },
  {
   "cell_type": "code",
   "execution_count": 91,
   "metadata": {},
   "outputs": [],
   "source": [
    "# MAX_DEPTH = 11\n",
    "# test_acc_threshold = 0.58\n",
    "# cls_model = 'rf'\n",
    "# filename = f\"results/model_scores_{cls_model}_{MAX_DEPTH}_{test_acc_threshold}.txt\"\n",
    "# with open(filename, 'w') as f:\n",
    "#     max_train_acc = 0\n",
    "#     max_test_acc = 0\n",
    "#     for split_state in range(100):\n",
    "#         for model_state in range(100):\n",
    "#             X_train, X_test, y_train, y_test = split_data(X, y, split_state)            \n",
    "#             if cls_model == 'rf':\n",
    "#                 cls = RandomForestClassifier(max_depth=MAX_DEPTH, random_state=model_state)\n",
    "#             elif cls_model == 'dt':\n",
    "#                 cls = DecisionTreeClassifier(max_depth=MAX_DEPTH, random_state=model_state)\n",
    "#             elif cls_model == 'lr':\n",
    "#                 cls = LogisticRegression(random_state=model_state)      \n",
    "#             train_acc, test_acc, auc_value, prec_rec_fs_supp = model_evaluation(cls, X_train, y_train, X_test, y_test)\n",
    "#             precision, recall, f_score, support = prec_rec_fs_supp\n",
    "            \n",
    "#             if train_acc > test_acc and test_acc > max_test_acc:       \n",
    "#                 max_train_acc = train_acc\n",
    "#                 max_test_acc = test_acc\n",
    "#                 max_test_auc = auc_value\n",
    "#                 max_split_state = split_state\n",
    "#                 max_model_state = model_state\n",
    "#             if test_acc > test_acc_threshold:\n",
    "#                 f.write(f'--------------------------\\n')\n",
    "#                 f.write(f'split_state: {split_state}\\n')\n",
    "#                 f.write(f'model_state: {model_state}\\n')\n",
    "#                 f.write(f'Training accuracy: {train_acc}\\n')\n",
    "#                 f.write(f'Test accuracy: {test_acc}\\n')\n",
    "#                 f.write(f'AUC: {auc_value}\\n')\n",
    "#                 f.write(f'Precision: {precision}\\n')\n",
    "#                 f.write(f'Recall: {recall}\\n')\n",
    "#                 f.write(f'F-score: {f_score}\\n')\n",
    "#                 f.write(f'Support: {support}\\n')\n",
    "#     f.write(f'-------Final Results----------\\n')\n",
    "#     f.write(f'max_train_acc: {max_train_acc}\\n')\n",
    "#     f.write(f'max_test_acc: {max_test_acc}\\n')\n",
    "#     f.write(f'max_test_auc: {max_test_auc}\\n')\n",
    "#     f.write(f'max_split_state: {max_split_state}\\n')\n",
    "#     f.write(f'max_model_state: {max_model_state}\\n')"
   ]
  },
  {
   "cell_type": "markdown",
   "metadata": {},
   "source": [
    "## Logistic Regression"
   ]
  },
  {
   "cell_type": "code",
   "execution_count": 92,
   "metadata": {},
   "outputs": [],
   "source": [
    "# X_train, X_test, y_train, y_test = split_data(X, y, 10)\n",
    "# lr = LogisticRegression(random_state=30)\n",
    "# lr = lr.fit(X_train, y_train)\n",
    "# train_acc, test_acc, auc_value, prec_rec_fs_supp = model_evaluation(lr, X_train, y_train, X_test, y_test)"
   ]
  },
  {
   "cell_type": "markdown",
   "metadata": {},
   "source": [
    "## Decision Tree"
   ]
  },
  {
   "cell_type": "code",
   "execution_count": 93,
   "metadata": {},
   "outputs": [],
   "source": [
    "# DT data pipeline\n",
    "X_train, X_test, y_train, y_test = split_data(X, y, 53) # best split state 53\n",
    "dt = DecisionTreeClassifier(max_depth=10, random_state=1)  # best model state 1\n",
    "dt = dt.fit(X_train, y_train)\n",
    "train_acc, test_acc, auc_value, prec_rec_fs_supp = model_evaluation(dt, X_train, y_train, X_test, y_test)"
   ]
  },
  {
   "cell_type": "code",
   "execution_count": 94,
   "metadata": {},
   "outputs": [
    {
     "data": {
      "text/plain": [
       "{'num_of_chars': 0.009027985487061857,\n",
       " 'share_non_al_num': 0.008578851436325302,\n",
       " 'share_nouns': 0.0068669309349366795,\n",
       " 'share_substantives': 0.004962923681014551,\n",
       " 'share_verbs': 0.0038710016525634293,\n",
       " 'num_of_words': 0.003652418855377559,\n",
       " 'share_dets': 0.003327507386616814,\n",
       " 'share_left_colon_words': 0.0030346993134202317,\n",
       " 'share_out_dict_words': 0.0018791113683989495,\n",
       " 'has_uppercase_word': 0.0008067974238932125,\n",
       " 'num_out_dict_words': 0.0005036129671264034,\n",
       " 'has_hyphen': 0.00036034983566659266,\n",
       " 'has_?': 0.0002964252627690065,\n",
       " 'num_right_out_dict_words': 0.00025829575255979423,\n",
       " 'has_colon': 0.00017085095506807089,\n",
       " 'has_comma': 0.0,\n",
       " 'has_!': 0.0}"
      ]
     },
     "execution_count": 94,
     "metadata": {},
     "output_type": "execute_result"
    }
   ],
   "source": [
    "# feature importance for DT\n",
    "features_importance_dict = {}\n",
    "feat_importance = dt.tree_.compute_feature_importances(normalize=False)\n",
    "for i, feat_value in enumerate(feat_importance):\n",
    "    feature = X_train.columns[i]\n",
    "    features_importance_dict[feature] = feat_value\n",
    "features_importance_dict.get\n",
    "\n",
    "sorted_dict = {}\n",
    "sorted_keys = sorted(features_importance_dict, key=features_importance_dict.get, reverse=True)\n",
    "\n",
    "for w in sorted_keys:\n",
    "    sorted_dict[w] = features_importance_dict[w]\n",
    "sorted_dict"
   ]
  },
  {
   "cell_type": "code",
   "execution_count": 95,
   "metadata": {},
   "outputs": [],
   "source": [
    "# fig = plt.figure(figsize=(25,20))\n",
    "# tree.plot_tree(dt, filled=True)\n",
    "# plt.show()"
   ]
  },
  {
   "cell_type": "code",
   "execution_count": 96,
   "metadata": {},
   "outputs": [],
   "source": [
    "# fig.savefig(\"images/decistion_tree.png\")"
   ]
  },
  {
   "cell_type": "markdown",
   "metadata": {},
   "source": [
    "## Random Forest"
   ]
  },
  {
   "cell_type": "code",
   "execution_count": 97,
   "metadata": {},
   "outputs": [],
   "source": [
    "# # RF data pipeline (split state 9 and model state 85 for depth 15)\n",
    "# X_train, X_test, y_train, y_test = split_data(X, y, 9) # best split state 45\n",
    "# rf = RandomForestClassifier(max_depth=10, random_state=0) # best model state 63\n",
    "# rf = rf.fit(X_train, y_train)\n",
    "# train_acc, test_acc, auc_value, prec_rec_fs_supp = model_evaluation(rf, X_train, y_train, X_test, y_test)\n",
    "# print_evaluation(train_acc, test_acc, auc_value, prec_rec_fs_supp)"
   ]
  },
  {
   "cell_type": "code",
   "execution_count": 98,
   "metadata": {
    "scrolled": false
   },
   "outputs": [],
   "source": [
    "# # feature importance for RF\n",
    "# features_importance_dict = {}\n",
    "# feat_importance = rf.feature_importances_\n",
    "# for i, feat_value in enumerate(feat_importance):\n",
    "#     feature = X_train.columns[i]\n",
    "#     features_importance_dict[feature] = feat_value\n",
    "# features_importance_dict.get\n",
    "\n",
    "# sorted_dict = {}\n",
    "# sorted_keys = sorted(features_importance_dict, key=features_importance_dict.get, reverse=True)\n",
    "\n",
    "# for w in sorted_keys:\n",
    "#     sorted_dict[w] = features_importance_dict[w]\n",
    "# sorted_dict"
   ]
  },
  {
   "cell_type": "code",
   "execution_count": 99,
   "metadata": {},
   "outputs": [
    {
     "name": "stdout",
     "output_type": "stream",
     "text": [
      "Training accuracy: 0.6877238908790301\n",
      "Test accuracy: 0.5318269495728851\n",
      "AUC: {0.5200831121984213}\n",
      "Precision: [0.54173107 0.50720461]\n",
      "Recall: [0.73211488 0.30805134]\n",
      "F-score: [0.62269598 0.38330309]\n",
      "Support: [1915 1714]\n"
     ]
    }
   ],
   "source": [
    "from sklearn.ensemble import GradientBoostingRegressor\n",
    "\n",
    "regressor = GradientBoostingRegressor(\n",
    "    max_depth=10,\n",
    "    n_estimators=8,\n",
    "    learning_rate=0.1\n",
    ")\n",
    "regressor = regressor.fit(X_train, y_train)\n",
    "train_acc, test_acc, auc_value, prec_rec_fs_supp = model_evaluation(regressor, X_train, y_train, X_test, y_test)\n",
    "print_evaluation(train_acc, test_acc, auc_value, prec_rec_fs_supp)"
   ]
  },
  {
   "cell_type": "markdown",
   "metadata": {},
   "source": [
    "## Neural Network"
   ]
  },
  {
   "cell_type": "code",
   "execution_count": 100,
   "metadata": {},
   "outputs": [],
   "source": [
    "# X_train_np = np.asarray(X_train).astype('float32')\n",
    "# X_test_np = np.asarray(X_test).astype('float32')\n",
    "# num_columns = len(X_train.columns)\n",
    "# num_columns"
   ]
  },
  {
   "cell_type": "code",
   "execution_count": 101,
   "metadata": {},
   "outputs": [],
   "source": [
    "# # build model\n",
    "# model = tf.keras.models.Sequential()\n",
    "# model.add(Input(shape=(num_columns,)))\n",
    "# model.add(Dense(32, activation='relu'))\n",
    "# model.add(Dense(16, activation='relu'))\n",
    "# model.add(Dense(1, activation='softmax'))\n",
    "\n",
    "# # compile\n",
    "# optimizer = tf.keras.optimizers.Adam(learning_rate=0.000000001)\n",
    "# METRICS = [tf.keras.metrics.BinaryAccuracy(name='accuracy'), tf.keras.metrics.Precision(name='precision'),\n",
    "#       tf.keras.metrics.Recall(name='recall'), tf.keras.metrics.Recall(name='AUC')]\n",
    "# model.compile(loss='categorical_crossentropy', optimizer=optimizer, metrics=METRICS)\n",
    "# model.summary()"
   ]
  },
  {
   "cell_type": "code",
   "execution_count": 102,
   "metadata": {},
   "outputs": [],
   "source": [
    "# # train model\n",
    "# from keras.callbacks import EarlyStopping\n",
    "# history = model.fit(X_train_np, y_train, epochs=10, batch_size=32,\n",
    "#                     callbacks=[EarlyStopping(monitor='loss', patience=5, min_delta=0.0001)])"
   ]
  },
  {
   "cell_type": "code",
   "execution_count": 103,
   "metadata": {},
   "outputs": [],
   "source": [
    "# # test model\n",
    "# score, acc, prec, rec, auc = model.evaluate(X_test_np, y_test)\n",
    "# print('Test score:', score)\n",
    "# print('Test accuracy:', acc)\n",
    "# print('Test precision:', prec)\n",
    "# print('Test recall:', rec)\n",
    "# print('Test auc:', auc)"
   ]
  },
  {
   "cell_type": "markdown",
   "metadata": {},
   "source": [
    "## Evaluation and Feedback"
   ]
  },
  {
   "cell_type": "code",
   "execution_count": 104,
   "metadata": {},
   "outputs": [
    {
     "data": {
      "text/plain": [
       "array([[ 0.00506775,  0.03368654, -0.06352831, ...,  0.03594333,\n",
       "         0.04712013, -0.00651115],\n",
       "       [-0.04687794,  0.06518338, -0.03439899, ...,  0.06569624,\n",
       "         0.04262172, -0.00235632],\n",
       "       [ 0.01297472,  0.01627761, -0.01492921, ...,  0.124274  ,\n",
       "         0.07095569, -0.03947164],\n",
       "       [-0.06084778, -0.06792177,  0.04444922, ..., -0.07442529,\n",
       "        -0.00352081,  0.07402814],\n",
       "       [-0.01482522,  0.06905222, -0.0692187 , ...,  0.04471868,\n",
       "         0.00144343, -0.03384705]], dtype=float32)"
      ]
     },
     "execution_count": 104,
     "metadata": {},
     "output_type": "execute_result"
    }
   ],
   "source": [
    "from sentence_transformers import SentenceTransformer\n",
    "model_sent = SentenceTransformer('all-MiniLM-L6-v2')\n",
    "\n",
    "import pickle\n",
    "titles_embeddings = pickle.load(open(\"embeddings/bert_titles_embeddings_00-17.p\", \"rb\"))\n",
    "\n",
    "titles = [\n",
    "    \"The application of Computational Creativity evaluation methods to art and music-based systems\",\n",
    "    \"Generation or Creativity\",\n",
    "    \"Therapeutic Computational Creativity\",\n",
    "    \"The compusss willey return too good matttere rendr\",\n",
    "    \"Human-Computer Evaluation: Inverting the co-creative paradigm\",\n",
    "]\n",
    "\n",
    "titles_list = papers['paper_title']\n",
    "\n",
    "model_sent.encode(titles)"
   ]
  },
  {
   "cell_type": "code",
   "execution_count": 105,
   "metadata": {},
   "outputs": [
    {
     "name": "stdout",
     "output_type": "stream",
     "text": [
      "1.0\n"
     ]
    }
   ],
   "source": [
    "possible_feedbacks = {\n",
    "    \"typos\": (0.4, \"Too many out of dictionary words found in the title.\"),\n",
    "    \"two-part title\": (0.2, \"Try having fewer words or make your title a two-part title separated by a colon.\"),\n",
    "    \"before colon\": (0.2, \"Try having fewer words before the colon.\"),\n",
    "    \"short titles\": (0.2, \"Short titles are great if some of their words begin with the same letter or rhyme.\"),\n",
    "}\n",
    "\n",
    "totalweight = sum([i[0] for i in possible_feedbacks.values()])\n",
    "print(totalweight)"
   ]
  },
  {
   "cell_type": "code",
   "execution_count": 106,
   "metadata": {},
   "outputs": [],
   "source": [
    "class MachineEvaluator:\n",
    "    def __init__(self, model, title):\n",
    "        print(\"\\n-------------------------------------------------------------------------------------\")\n",
    "        self.model = model\n",
    "        self.title = title\n",
    "        self.originality_treshold = 0.86\n",
    "                \n",
    "        # Quality\n",
    "        self.totalweight = totalweight\n",
    "        self.feedbacks = []\n",
    "        self.prediction_change = 0\n",
    "        self.y_pred, self.data, self.words = self.predict()\n",
    "        self.create_feedbacks()\n",
    "        self.prediction = self.add_expert_knowledge()\n",
    "        \n",
    "        # Originality\n",
    "        self.similar_titles = []\n",
    "        self.similarity_values = []\n",
    "        self.title_embedding = model_sent.encode([title])\n",
    "        self.cos_matrix = cosine_similarity(self.title_embedding, titles_embeddings)\n",
    "        self.add_novelty(self.cos_matrix, [title], titles_list, self.originality_treshold)\n",
    "        self.quality, self.originality, self.creativity = self.compute_creativity()\n",
    "\n",
    "#     def testing_ground(self):\n",
    "#         if self.words[0][-1] == self.words[1][-1]:\n",
    "#             print(self.words[0][0])\n",
    "        \n",
    "    def predict(self):  \n",
    "        data, words = process_title(self.title)\n",
    "        del data['paper_title']\n",
    "        X = pd.DataFrame([data])\n",
    "        y_pred = self.model.predict(X)\n",
    "        return y_pred, data, words\n",
    "    \n",
    "    def create_feedbacks(self):\n",
    "        if self.data['num_out_dict_words'] >= 2:\n",
    "            self.feedbacks.append(possible_feedbacks[\"typos\"])\n",
    "            # change prediction to False in case they are too many unknown words\n",
    "            if self.y_pred == True:\n",
    "                self.y_pred = False\n",
    "                self.prediction_change = \"Prediction changed from True to False b/c of typos.\"\n",
    "                \n",
    "        if self.data['num_of_chars'] > GOOD_PAPER_LENGTH and self.data['has_colon'] == False:\n",
    "            self.feedbacks.append(possible_feedbacks[\"two-part title\"])\n",
    "\n",
    "        if self.data['share_left_colon_words'] >= 0.5:\n",
    "            self.feedbacks.append(possible_feedbacks[\"before colon\"])\n",
    "\n",
    "#         if self.data['%_verbs'] == 0 and self.data['num_of_chars'] > 50:\n",
    "#             self.feedbacks.append(possible_feedbacks[\"verb\"])\n",
    "\n",
    "#         if self.data['has_creativ'] == False and self.data['num_of_chars'] > 30:\n",
    "#                 self.feedbacks.append('Try including a word like creativity, creative or creators in your title.')\n",
    "\n",
    "        if self.data['num_of_words'] < 5:\n",
    "            first_letters, last_letters = [], []\n",
    "            for i in range(len(self.words)):\n",
    "                first_letters.append(self.words[i][0])\n",
    "                last_letters.append(self.words[i][-1])\n",
    "            max_first_letters_count = 0\n",
    "            for i, letter in enumerate(first_letters):\n",
    "                first_letters_count = first_letters.count(first_letters[i][0])\n",
    "                if first_letters_count > max_first_letters_count:\n",
    "                    max_first_letters_count = first_letters_count\n",
    "            max_last_letters_count = 0\n",
    "            for i, letter in enumerate(last_letters):\n",
    "                last_letters_count = last_letters.count(last_letters[i][-1])\n",
    "                if last_letters_count > max_last_letters_count:\n",
    "                    max_last_letters_count = last_letters_count\n",
    "            if max_first_letters_count <  2 and max_last_letters_count < 2:\n",
    "                self.feedbacks.append(possible_feedbacks[\"short titles\"])\n",
    "            \n",
    "        random.shuffle(self.feedbacks)\n",
    "\n",
    "    def add_expert_knowledge(self):\n",
    "        # change prediction to True if no feedback is present\n",
    "        if len(self.feedbacks) == 0 and self.y_pred == False:\n",
    "            self.prediction_change = \"Prediction changed from False to True b/c no feedback is present.\"\n",
    "            self.y_pred = True\n",
    "        if len(self.feedbacks) > 0 and self.y_pred == True:\n",
    "            self.prediction_change = \"Prediction changed from True to False b/c feedback is present.\"\n",
    "            self.y_pred = False   \n",
    "        if self.y_pred == False:\n",
    "            prediction = f'\\nYour paper will likely have LESS than {CUT_OFF} citations.'\n",
    "        else:\n",
    "            prediction = f'\\nYour paper will likely have MORE than {CUT_OFF} citations.'\n",
    "        return prediction\n",
    "\n",
    "    def add_novelty(self, cos_matrix, sent_list1, sent_list2, treshold):\n",
    "        indexes = np.where(cos_matrix > treshold)\n",
    "        coord_list = list(zip(indexes[0], indexes[1]))\n",
    "        for cord in coord_list:\n",
    "            sent_embd_value = cos_matrix[cord]\n",
    "            self.similarity_values.append(sent_embd_value)\n",
    "            similar_sent = sent_list2[cord[1]]\n",
    "            self.similar_titles.append(f\"{similar_sent} ({100*sent_embd_value:.2f}%)\")\n",
    "            \n",
    "    def compute_creativity(self):\n",
    "        \n",
    "        # quality measure\n",
    "        feedbacks_weights = [i[0] for i in self.feedbacks]\n",
    "        q = 1 - sum(feedbacks_weights)/self.totalweight\n",
    "        \n",
    "        # originality measure\n",
    "        num_similarities = len(self.similarity_values)\n",
    "        o = 1/(1 + num_similarities)\n",
    "        \n",
    "        # creativity score\n",
    "        if o == 1 or q == 1:\n",
    "            c = (o + q)/2\n",
    "        else:\n",
    "            c = o*q/(o*q + (1-o)*(1-q))\n",
    "        return q, o, c"
   ]
  },
  {
   "cell_type": "code",
   "execution_count": 107,
   "metadata": {},
   "outputs": [],
   "source": [
    "def print_results(eva):\n",
    "    # print(f\"\\n{eva.data}\\n\")\n",
    "    print(\"- - - - - -\")\n",
    "    print(f\"Title: {eva.title}\")\n",
    "\n",
    "    print(f'\\nOriginality:')\n",
    "    print(\"------------\")\n",
    "    print(f\"Your originality score is {eva.originality}.\")\n",
    "    if len(eva.similar_titles) != 0:\n",
    "        print(f\"Your title is similar to the following paper titles with corresponding similarity percentages in parentheses:\\n\")\n",
    "        for i, similar_title in enumerate(eva.similar_titles):\n",
    "            print(f'- {similar_title}\\n')\n",
    "    else:\n",
    "        print(\"No similar titles present in the database.\\n\")\n",
    "\n",
    "\n",
    "    print(f\"\\nQuality:\")\n",
    "    print(\"--------\")\n",
    "    print(f\"Your quality score is {eva.quality}.\")\n",
    "    if len(eva.feedbacks) != 0:\n",
    "        for i, feedback in enumerate(eva.feedbacks):\n",
    "            print(f'- {feedback[1]}')\n",
    "    else:\n",
    "        print(\"No quality improvement feedback suggested.\")\n",
    "\n",
    "    if eva.prediction_change != 0:\n",
    "        print(f\"{eva.prediction_change}\")\n",
    "    print(f'{eva.prediction}\\n')\n",
    "\n",
    "    print(\"\\nFinal recommendation:\")\n",
    "    print(\"--------------------\")\n",
    "    if eva.quality == 1 and eva.originality == 1:\n",
    "        final = f'Your paper title looks GREAT!'\n",
    "#         elif eva.quality < 1 and eva.quality > 0.9:\n",
    "#             final = f'Your paper title looks GOOD, though some improvement may need to be considered!'\n",
    "    elif eva.quality < 1 or eva.originality < 1:\n",
    "        final = 'Your paper title needs some improvement.'\n",
    "    print(f'Your final score is {eva.creativity}. {final}')"
   ]
  },
  {
   "cell_type": "code",
   "execution_count": 50,
   "metadata": {},
   "outputs": [],
   "source": [
    "def aggregate_results(titles):\n",
    "    for title in titles:\n",
    "        evaluator = MachineEvaluator(rf, title)\n",
    "        print_results(evaluator)"
   ]
  },
  {
   "cell_type": "code",
   "execution_count": 51,
   "metadata": {},
   "outputs": [
    {
     "name": "stdout",
     "output_type": "stream",
     "text": [
      "\n",
      "-------------------------------------------------------------------------------------\n",
      "- - - - - -\n",
      "Title: The application of Computational Creativity evaluation methods to art and music-based systems\n",
      "\n",
      "Originality:\n",
      "------------\n",
      "Your originality score is 1.0.\n",
      "No similar titles present in the database.\n",
      "\n",
      "\n",
      "Quality:\n",
      "--------\n",
      "Your quality score is 0.8.\n",
      "- Try having fewer words or make your title a two-part title separated by a colon.\n",
      "\n",
      "Your paper will likely have LESS than 10 citations.\n",
      "\n",
      "\n",
      "Final recommendation:\n",
      "--------------------\n",
      "Your final score is 0.9. Your paper title needs some improvement.\n",
      "\n",
      "-------------------------------------------------------------------------------------\n",
      "- - - - - -\n",
      "Title: Generation or Creativity\n",
      "\n",
      "Originality:\n",
      "------------\n",
      "Your originality score is 1.0.\n",
      "No similar titles present in the database.\n",
      "\n",
      "\n",
      "Quality:\n",
      "--------\n",
      "Your quality score is 0.8.\n",
      "- Short titles are great if some of their words begin with the same letter or rhyme.\n",
      "Prediction changed from True to False b/c feedback is present.\n",
      "\n",
      "Your paper will likely have LESS than 10 citations.\n",
      "\n",
      "\n",
      "Final recommendation:\n",
      "--------------------\n",
      "Your final score is 0.9. Your paper title needs some improvement.\n",
      "\n",
      "-------------------------------------------------------------------------------------\n",
      "- - - - - -\n",
      "Title: Therapeutic Computational Creativity\n",
      "\n",
      "Originality:\n",
      "------------\n",
      "Your originality score is 1.0.\n",
      "No similar titles present in the database.\n",
      "\n",
      "\n",
      "Quality:\n",
      "--------\n",
      "Your quality score is 1.0.\n",
      "No quality improvement feedback suggested.\n",
      "\n",
      "Your paper will likely have MORE than 10 citations.\n",
      "\n",
      "\n",
      "Final recommendation:\n",
      "--------------------\n",
      "Your final score is 1.0. Your paper title looks GREAT!\n",
      "\n",
      "-------------------------------------------------------------------------------------\n",
      "- - - - - -\n",
      "Title: The compusss willey return too good matttere rendr\n",
      "\n",
      "Originality:\n",
      "------------\n",
      "Your originality score is 1.0.\n",
      "No similar titles present in the database.\n",
      "\n",
      "\n",
      "Quality:\n",
      "--------\n",
      "Your quality score is 0.6.\n",
      "- Too many out of dictionary words found in the title.\n",
      "Prediction changed from True to False b/c of typos.\n",
      "\n",
      "Your paper will likely have LESS than 10 citations.\n",
      "\n",
      "\n",
      "Final recommendation:\n",
      "--------------------\n",
      "Your final score is 0.8. Your paper title needs some improvement.\n",
      "\n",
      "-------------------------------------------------------------------------------------\n",
      "- - - - - -\n",
      "Title: Human-Computer Evaluation: Inverting the co-creative paradigm\n",
      "\n",
      "Originality:\n",
      "------------\n",
      "Your originality score is 1.0.\n",
      "No similar titles present in the database.\n",
      "\n",
      "\n",
      "Quality:\n",
      "--------\n",
      "Your quality score is 1.0.\n",
      "No quality improvement feedback suggested.\n",
      "\n",
      "Your paper will likely have MORE than 10 citations.\n",
      "\n",
      "\n",
      "Final recommendation:\n",
      "--------------------\n",
      "Your final score is 1.0. Your paper title looks GREAT!\n"
     ]
    }
   ],
   "source": [
    "titles = [\n",
    "    \"The application of Computational Creativity evaluation methods to art and music-based systems\",\n",
    "    \"Generation or Creativity\",\n",
    "    \"Therapeutic Computational Creativity\",\n",
    "    \"The compusss willey return too good matttere rendr\",\n",
    "    \"Human-Computer Evaluation: Inverting the co-creative paradigm\",\n",
    "]\n",
    "\n",
    "# random forest evaluator\n",
    "aggregate_results(titles)"
   ]
  },
  {
   "cell_type": "code",
   "execution_count": 52,
   "metadata": {},
   "outputs": [
    {
     "name": "stdout",
     "output_type": "stream",
     "text": [
      "\n",
      "-------------------------------------------------------------------------------------\n",
      "- - - - - -\n",
      "Title: Inverting the co-creative paradigm by having machines provide feedback on user generated content\n",
      "\n",
      "Originality:\n",
      "------------\n",
      "Your originality score is 1.0.\n",
      "No similar titles present in the database.\n",
      "\n",
      "\n",
      "Quality:\n",
      "--------\n",
      "Your quality score is 0.8.\n",
      "- Try having fewer words or make your title a two-part title separated by a colon.\n",
      "\n",
      "Your paper will likely have LESS than 10 citations.\n",
      "\n",
      "\n",
      "Final recommendation:\n",
      "--------------------\n",
      "Your final score is 0.9. Your paper title needs some improvement.\n",
      "\n",
      "-------------------------------------------------------------------------------------\n",
      "- - - - - -\n",
      "Title: Inverting the co-creative paradigm by having machines evaluate us: Creative Evaluators\n",
      "\n",
      "Originality:\n",
      "------------\n",
      "Your originality score is 1.0.\n",
      "No similar titles present in the database.\n",
      "\n",
      "\n",
      "Quality:\n",
      "--------\n",
      "Your quality score is 0.8.\n",
      "- Try having fewer words before the colon.\n",
      "\n",
      "Your paper will likely have LESS than 10 citations.\n",
      "\n",
      "\n",
      "Final recommendation:\n",
      "--------------------\n",
      "Your final score is 0.9. Your paper title needs some improvement.\n",
      "\n",
      "-------------------------------------------------------------------------------------\n",
      "- - - - - -\n",
      "Title: Creative Evaluators: When Machines Evaluate Us\n",
      "\n",
      "Originality:\n",
      "------------\n",
      "Your originality score is 1.0.\n",
      "No similar titles present in the database.\n",
      "\n",
      "\n",
      "Quality:\n",
      "--------\n",
      "Your quality score is 1.0.\n",
      "No quality improvement feedback suggested.\n",
      "\n",
      "Your paper will likely have MORE than 10 citations.\n",
      "\n",
      "\n",
      "Final recommendation:\n",
      "--------------------\n",
      "Your final score is 1.0. Your paper title looks GREAT!\n"
     ]
    }
   ],
   "source": [
    "titles = [\n",
    "    \"Inverting the co-creative paradigm by having machines provide feedback on user generated content\",\n",
    "    \"Inverting the co-creative paradigm by having machines evaluate us: Creative Evaluators\",\n",
    "    \"Creative Evaluators: When Machines Evaluate Us\",\n",
    "]\n",
    "\n",
    "# random forest evaluator\n",
    "aggregate_results(titles)"
   ]
  },
  {
   "cell_type": "code",
   "execution_count": 53,
   "metadata": {},
   "outputs": [
    {
     "name": "stdout",
     "output_type": "stream",
     "text": [
      "\n",
      "-------------------------------------------------------------------------------------\n",
      "- - - - - -\n",
      "Title: Computational creativity via assisted variational synthesis of mechanisms using deep generative models\n",
      "\n",
      "Originality:\n",
      "------------\n",
      "Your originality score is 1.0.\n",
      "No similar titles present in the database.\n",
      "\n",
      "\n",
      "Quality:\n",
      "--------\n",
      "Your quality score is 0.8.\n",
      "- Try having fewer words or make your title a two-part title separated by a colon.\n",
      "Prediction changed from True to False b/c feedback is present.\n",
      "\n",
      "Your paper will likely have LESS than 10 citations.\n",
      "\n",
      "\n",
      "Final recommendation:\n",
      "--------------------\n",
      "Your final score is 0.9. Your paper title needs some improvement.\n",
      "\n",
      "-------------------------------------------------------------------------------------\n",
      "- - - - - -\n",
      "Title: To cluster, or not to cluster\n",
      "\n",
      "Originality:\n",
      "------------\n",
      "Your originality score is 1.0.\n",
      "No similar titles present in the database.\n",
      "\n",
      "\n",
      "Quality:\n",
      "--------\n",
      "Your quality score is 1.0.\n",
      "No quality improvement feedback suggested.\n",
      "\n",
      "Your paper will likely have MORE than 10 citations.\n",
      "\n",
      "\n",
      "Final recommendation:\n",
      "--------------------\n",
      "Your final score is 1.0. Your paper title looks GREAT!\n",
      "\n",
      "-------------------------------------------------------------------------------------\n",
      "- - - - - -\n",
      "Title: Weighted clustering\n",
      "\n",
      "Originality:\n",
      "------------\n",
      "Your originality score is 0.5.\n",
      "Your title is similar to the following paper titles with corresponding similarity percentages in parentheses:\n",
      "\n",
      "- Weighted clustering (100.00%)\n",
      "\n",
      "\n",
      "Quality:\n",
      "--------\n",
      "Your quality score is 0.8.\n",
      "- Short titles are great if some of their words begin with the same letter or rhyme.\n",
      "Prediction changed from True to False b/c feedback is present.\n",
      "\n",
      "Your paper will likely have LESS than 10 citations.\n",
      "\n",
      "\n",
      "Final recommendation:\n",
      "--------------------\n",
      "Your final score is 0.8. Your paper title needs some improvement.\n",
      "\n",
      "-------------------------------------------------------------------------------------\n",
      "- - - - - -\n",
      "Title: Incremental clustering: The case for extra clusters\n",
      "\n",
      "Originality:\n",
      "------------\n",
      "Your originality score is 1.0.\n",
      "No similar titles present in the database.\n",
      "\n",
      "\n",
      "Quality:\n",
      "--------\n",
      "Your quality score is 1.0.\n",
      "No quality improvement feedback suggested.\n",
      "\n",
      "Your paper will likely have MORE than 10 citations.\n",
      "\n",
      "\n",
      "Final recommendation:\n",
      "--------------------\n",
      "Your final score is 1.0. Your paper title looks GREAT!\n",
      "\n",
      "-------------------------------------------------------------------------------------\n",
      "- - - - - -\n",
      "Title: Teaching computational creativity\n",
      "\n",
      "Originality:\n",
      "------------\n",
      "Your originality score is 1.0.\n",
      "No similar titles present in the database.\n",
      "\n",
      "\n",
      "Quality:\n",
      "--------\n",
      "Your quality score is 1.0.\n",
      "No quality improvement feedback suggested.\n",
      "\n",
      "Your paper will likely have MORE than 10 citations.\n",
      "\n",
      "\n",
      "Final recommendation:\n",
      "--------------------\n",
      "Your final score is 1.0. Your paper title looks GREAT!\n",
      "\n",
      "-------------------------------------------------------------------------------------\n",
      "- - - - - -\n",
      "Title: What makes a ‘good’ title and (how) does it matter for citations? A review and general model of article title attributes in management science\n",
      "\n",
      "Originality:\n",
      "------------\n",
      "Your originality score is 1.0.\n",
      "No similar titles present in the database.\n",
      "\n",
      "\n",
      "Quality:\n",
      "--------\n",
      "Your quality score is 0.8.\n",
      "- Try having fewer words or make your title a two-part title separated by a colon.\n",
      "\n",
      "Your paper will likely have LESS than 10 citations.\n",
      "\n",
      "\n",
      "Final recommendation:\n",
      "--------------------\n",
      "Your final score is 0.9. Your paper title needs some improvement.\n",
      "\n",
      "-------------------------------------------------------------------------------------\n",
      "- - - - - -\n",
      "Title: The compusss willey return too good matttere rendr\n",
      "\n",
      "Originality:\n",
      "------------\n",
      "Your originality score is 1.0.\n",
      "No similar titles present in the database.\n",
      "\n",
      "\n",
      "Quality:\n",
      "--------\n",
      "Your quality score is 0.6.\n",
      "- Too many out of dictionary words found in the title.\n",
      "Prediction changed from True to False b/c of typos.\n",
      "\n",
      "Your paper will likely have LESS than 10 citations.\n",
      "\n",
      "\n",
      "Final recommendation:\n",
      "--------------------\n",
      "Your final score is 0.8. Your paper title needs some improvement.\n"
     ]
    }
   ],
   "source": [
    "titles = [\n",
    "    \"Computational creativity via assisted variational synthesis of mechanisms using deep generative models\",\n",
    "    \"To cluster, or not to cluster\",\n",
    "    \"Weighted clustering\",\n",
    "    \"Incremental clustering: The case for extra clusters\",\n",
    "    \"Teaching computational creativity\",\n",
    "    \"What makes a ‘good’ title and (how) does it matter for citations? A review and general model of article title attributes in management science\",\n",
    "    \"The compusss willey return too good matttere rendr\",\n",
    "]\n",
    "\n",
    "# random forest evaluator\n",
    "aggregate_results(titles)"
   ]
  },
  {
   "cell_type": "code",
   "execution_count": 54,
   "metadata": {},
   "outputs": [
    {
     "name": "stdout",
     "output_type": "stream",
     "text": [
      "\n",
      "-------------------------------------------------------------------------------------\n",
      "- - - - - -\n",
      "Title: The application of Computational Creativity evaluation methods to music-based systems\n",
      "\n",
      "Originality:\n",
      "------------\n",
      "Your originality score is 1.0.\n",
      "No similar titles present in the database.\n",
      "\n",
      "\n",
      "Quality:\n",
      "--------\n",
      "Your quality score is 0.8.\n",
      "- Try having fewer words or make your title a two-part title separated by a colon.\n",
      "Prediction changed from True to False b/c feedback is present.\n",
      "\n",
      "Your paper will likely have LESS than 10 citations.\n",
      "\n",
      "\n",
      "Final recommendation:\n",
      "--------------------\n",
      "Your final score is 0.9. Your paper title needs some improvement.\n",
      "\n",
      "-------------------------------------------------------------------------------------\n",
      "- - - - - -\n",
      "Title: Generation or Creativity\n",
      "\n",
      "Originality:\n",
      "------------\n",
      "Your originality score is 1.0.\n",
      "No similar titles present in the database.\n",
      "\n",
      "\n",
      "Quality:\n",
      "--------\n",
      "Your quality score is 0.8.\n",
      "- Short titles are great if some of their words begin with the same letter or rhyme.\n",
      "Prediction changed from True to False b/c feedback is present.\n",
      "\n",
      "Your paper will likely have LESS than 10 citations.\n",
      "\n",
      "\n",
      "Final recommendation:\n",
      "--------------------\n",
      "Your final score is 0.9. Your paper title needs some improvement.\n",
      "\n",
      "-------------------------------------------------------------------------------------\n",
      "- - - - - -\n",
      "Title: Therapeutic Computational Creativity\n",
      "\n",
      "Originality:\n",
      "------------\n",
      "Your originality score is 1.0.\n",
      "No similar titles present in the database.\n",
      "\n",
      "\n",
      "Quality:\n",
      "--------\n",
      "Your quality score is 1.0.\n",
      "No quality improvement feedback suggested.\n",
      "\n",
      "Your paper will likely have MORE than 10 citations.\n",
      "\n",
      "\n",
      "Final recommendation:\n",
      "--------------------\n",
      "Your final score is 1.0. Your paper title looks GREAT!\n",
      "\n",
      "-------------------------------------------------------------------------------------\n",
      "- - - - - -\n",
      "Title: The compusss willey return too good matttere rendr\n",
      "\n",
      "Originality:\n",
      "------------\n",
      "Your originality score is 1.0.\n",
      "No similar titles present in the database.\n",
      "\n",
      "\n",
      "Quality:\n",
      "--------\n",
      "Your quality score is 0.6.\n",
      "- Too many out of dictionary words found in the title.\n",
      "Prediction changed from True to False b/c of typos.\n",
      "\n",
      "Your paper will likely have LESS than 10 citations.\n",
      "\n",
      "\n",
      "Final recommendation:\n",
      "--------------------\n",
      "Your final score is 0.8. Your paper title needs some improvement.\n",
      "\n",
      "-------------------------------------------------------------------------------------\n",
      "- - - - - -\n",
      "Title: Human-Computer Evaluation: Inverting the co-creative paradigm\n",
      "\n",
      "Originality:\n",
      "------------\n",
      "Your originality score is 1.0.\n",
      "No similar titles present in the database.\n",
      "\n",
      "\n",
      "Quality:\n",
      "--------\n",
      "Your quality score is 1.0.\n",
      "No quality improvement feedback suggested.\n",
      "\n",
      "Your paper will likely have MORE than 10 citations.\n",
      "\n",
      "\n",
      "Final recommendation:\n",
      "--------------------\n",
      "Your final score is 1.0. Your paper title looks GREAT!\n"
     ]
    }
   ],
   "source": [
    "titles = [\n",
    "    \"The application of Computational Creativity evaluation methods to music-based systems\",\n",
    "    \"Generation or Creativity\",\n",
    "    \"Therapeutic Computational Creativity\",\n",
    "    \"The compusss willey return too good matttere rendr\",\n",
    "    \"Human-Computer Evaluation: Inverting the co-creative paradigm\",\n",
    "]\n",
    "\n",
    "# random forest evaluator\n",
    "aggregate_results(titles)"
   ]
  },
  {
   "cell_type": "code",
   "execution_count": null,
   "metadata": {},
   "outputs": [],
   "source": []
  },
  {
   "cell_type": "code",
   "execution_count": null,
   "metadata": {},
   "outputs": [],
   "source": []
  }
 ],
 "metadata": {
  "kernelspec": {
   "display_name": "venv",
   "language": "python",
   "name": "venv"
  },
  "language_info": {
   "codemirror_mode": {
    "name": "ipython",
    "version": 3
   },
   "file_extension": ".py",
   "mimetype": "text/x-python",
   "name": "python",
   "nbconvert_exporter": "python",
   "pygments_lexer": "ipython3",
   "version": "3.10.6"
  },
  "vscode": {
   "interpreter": {
    "hash": "7437cc0f142bf3aa8f428733be8d47822b9201ef36b3d94e7af47c816a58ff1a"
   }
  }
 },
 "nbformat": 4,
 "nbformat_minor": 4
}
