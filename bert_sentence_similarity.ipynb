{
 "cells": [
  {
   "cell_type": "code",
   "execution_count": 1,
   "id": "0d36bb23",
   "metadata": {},
   "outputs": [],
   "source": [
    "import pickle\n",
    "import pandas as pd\n",
    "import numpy as np\n",
    "from sklearn.metrics.pairwise import cosine_similarity"
   ]
  },
  {
   "cell_type": "code",
   "execution_count": 2,
   "id": "2977f4e0",
   "metadata": {},
   "outputs": [
    {
     "name": "stderr",
     "output_type": "stream",
     "text": [
      "2021-11-30 14:07:10.726241: W tensorflow/stream_executor/platform/default/dso_loader.cc:64] Could not load dynamic library 'libcudart.so.11.0'; dlerror: libcudart.so.11.0: cannot open shared object file: No such file or directory\n",
      "2021-11-30 14:07:10.726364: I tensorflow/stream_executor/cuda/cudart_stub.cc:29] Ignore above cudart dlerror if you do not have a GPU set up on your machine.\n"
     ]
    }
   ],
   "source": [
    "model_sent = pickle.load(open(\"embeddings/bert_sent_model.p\", \"rb\"))"
   ]
  },
  {
   "cell_type": "code",
   "execution_count": 3,
   "id": "a4738d27",
   "metadata": {},
   "outputs": [],
   "source": [
    "def get_cos_matrix(sent_list1, sent_list2):\n",
    "    sent_embeddings1 = model_sent.encode(sent_list1)\n",
    "    sent_embeddings2 = model_sent.encode(sent_list2)\n",
    "    cos_matrix = cosine_similarity(sent_embeddings1, sent_embeddings2)\n",
    "    return cos_matrix"
   ]
  },
  {
   "cell_type": "code",
   "execution_count": 4,
   "id": "ac65d5fe",
   "metadata": {},
   "outputs": [],
   "source": [
    "def get_similar_sentences(cos_matrix, treshold, sent_list1, sent_list2):\n",
    "    indexes = np.where((cos_matrix > treshold) & (cos_matrix < 0.999))\n",
    "    coord_list = list(zip(indexes[0], indexes[1]))\n",
    "    filename = f\"results/similar_sentences_{treshold}.txt\"\n",
    "    with open(filename, 'w') as f:\n",
    "        f.write(f\"{len(coord_list)} entries for cosine similarity greater than {treshold}\\n\\n\")\n",
    "        for cord in coord_list:\n",
    "            embd_value = cos_matrix[cord]\n",
    "            sent1 = sent_list1[cord[0]]\n",
    "            sent2 = sent_list2[cord[1]]\n",
    "            if sent1 != sent2:\n",
    "                f.write(f\"{embd_value} \\n\")\n",
    "                f.write(f\"{sent1} \\n\")\n",
    "                f.write(f\"{sent2} \\n\\n\")"
   ]
  },
  {
   "cell_type": "markdown",
   "id": "c3f430e7",
   "metadata": {},
   "source": [
    "### Test sentence similarity models on titles"
   ]
  },
  {
   "cell_type": "code",
   "execution_count": 5,
   "id": "41389996",
   "metadata": {},
   "outputs": [],
   "source": [
    "# sentences = [\n",
    "#     \"Exploiting Music Play Sequence for Music Recommendation\",\n",
    "#     \"Incremental clustering: The case for extra  clusters \",\n",
    "#     \"To cluster, or not to cluster\",\n",
    "#     \"The person box was packed with jelly many dozens of months later.\",\n",
    "#     \"He found a leprechaun in his walnut shell.\",\n",
    "#     \"Music generation\"\n",
    "# ]\n",
    "\n",
    "# sentences = [\n",
    "#     \"Should machines evaluate us: opportunities and challenges\",\n",
    "#     \"Brain Controlled Musical Improvisation\",\n",
    "#     \"EMILY: An Emily Dickinson Machine\",\n",
    "#     \"He found a leprechaun in his walnut shell.\"\n",
    "# ]\n",
    "\n",
    "# sentences = [\n",
    "#     \"Measures of Clustering Quality: A Working Set of Axioms for Clustering\",\n",
    "#     \"Teaching Computational Creativity\",\n",
    "#     \"EMILY: An Emily Dickinson Machine\",\n",
    "#     \"He found a leprechaun in his walnut shell.\"\n",
    "# ]\n",
    "\n",
    "sentences1 = [\n",
    "    \"Supporting Computational Music Remixing with a Co-Creative Learning Companion\",\n",
    "    \"LyricJam: A system for generating lyrics for live instrumental music\",\n",
    "    \"Inspiring Social Creativity in Children with a Digital Tool\",\n",
    "    \"He found a leprechaun in his walnut shell.\"\n",
    "]\n",
    "\n",
    "sentences2 = [\n",
    "    \"Humble Creative Machines.\",\n",
    "    \"Should Machines Evaluate Us? Opportunities and Challenges\",\n",
    "    \"Weighted Clustering: Towards Solving the User’s Dilemma. \",\n",
    "    \"Investors Embrace Gender Diversity, Not Female CEOs: The Role of Gender in Startup Fundraising.\",\n",
    "    \"Field Work in Computational Creativity.\"\n",
    "]"
   ]
  },
  {
   "cell_type": "code",
   "execution_count": 6,
   "id": "3049e0e2",
   "metadata": {},
   "outputs": [],
   "source": [
    "cos_matrix_test = get_cos_matrix(sentences1, sentences2)"
   ]
  },
  {
   "cell_type": "code",
   "execution_count": 7,
   "id": "2cc2a8f9",
   "metadata": {},
   "outputs": [],
   "source": [
    "get_similar_sentences(cos_matrix_test, 0.4, sentences1, sentences2)"
   ]
  },
  {
   "cell_type": "markdown",
   "id": "4e167814",
   "metadata": {},
   "source": [
    "### Building similar titles in the paper titles dataset"
   ]
  },
  {
   "cell_type": "code",
   "execution_count": 8,
   "id": "4cc68ffe",
   "metadata": {},
   "outputs": [],
   "source": [
    "# load paper titles embeddings\n",
    "titles_embeddings = pickle.load(open(\"embeddings/bert_titles_embeddings.p\", \"rb\"))"
   ]
  },
  {
   "cell_type": "code",
   "execution_count": 9,
   "id": "75bc9360",
   "metadata": {},
   "outputs": [
    {
     "data": {
      "text/plain": [
       "(16859, 16859)"
      ]
     },
     "execution_count": 9,
     "metadata": {},
     "output_type": "execute_result"
    }
   ],
   "source": [
    "cos_matrix = cosine_similarity(titles_embeddings, titles_embeddings)\n",
    "cos_matrix.shape"
   ]
  },
  {
   "cell_type": "code",
   "execution_count": 10,
   "id": "93891dab",
   "metadata": {},
   "outputs": [],
   "source": [
    "papers = pd.read_csv('papers.csv')\n",
    "titles = papers['paper_title']"
   ]
  },
  {
   "cell_type": "code",
   "execution_count": 11,
   "id": "a4ec84a8",
   "metadata": {},
   "outputs": [],
   "source": [
    "get_similar_sentences(cos_matrix, 0.9, titles, titles)"
   ]
  },
  {
   "cell_type": "code",
   "execution_count": null,
   "id": "5c7ceb73",
   "metadata": {},
   "outputs": [],
   "source": []
  }
 ],
 "metadata": {
  "kernelspec": {
   "display_name": "Python 3 (ipykernel)",
   "language": "python",
   "name": "python3"
  },
  "language_info": {
   "codemirror_mode": {
    "name": "ipython",
    "version": 3
   },
   "file_extension": ".py",
   "mimetype": "text/x-python",
   "name": "python",
   "nbconvert_exporter": "python",
   "pygments_lexer": "ipython3",
   "version": "3.10.6"
  }
 },
 "nbformat": 4,
 "nbformat_minor": 5
}
